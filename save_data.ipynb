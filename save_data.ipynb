{
 "cells": [
  {
   "cell_type": "markdown",
   "metadata": {},
   "source": [
    "Выбранная ранее библиотека PyGithub оказалась менее удобной, чем предполагалось. Намного удобнее собирать данные напрямую через json. APi GitHub ограничивает до 50 запросов в час, что сильно проблематично. При аутентификации по созданному личному токену лимит увеличивается до 5000, но это все равно может вызвать неудобности при анализе большого репозитория."
   ]
  },
  {
   "cell_type": "code",
   "execution_count": 2,
   "metadata": {},
   "outputs": [],
   "source": [
    "import requests\n",
    "import json\n",
    "from datetime import datetime\n",
    "from config import token_api"
   ]
  },
  {
   "cell_type": "markdown",
   "metadata": {},
   "source": [
    "Тестируем соединение"
   ]
  },
  {
   "cell_type": "code",
   "execution_count": 3,
   "metadata": {},
   "outputs": [
    {
     "name": "stdout",
     "output_type": "stream",
     "text": [
      "Repository Name: node\n",
      "Repository Description: Node.js JavaScript runtime ✨🐢🚀✨\n"
     ]
    }
   ],
   "source": [
    "username = 'nodejs'\n",
    "repo = 'node'\n",
    "git_token = token_api\n",
    "url = f'https://api.github.com/repos/{username}/{repo}'\n",
    "\n",
    "r = requests.get(url, headers={\"Authorization\": git_token})\n",
    "data_json = json.loads(r.text)\n",
    "print('Repository Name:',data_json['name'])\n",
    "print('Repository Description:',data_json['description'])"
   ]
  },
  {
   "cell_type": "markdown",
   "metadata": {},
   "source": [
    "Так как GitHub API ограничивает количество запросов, было принято решение выгрузить данные и сохранить в формате json для последующего анализа."
   ]
  },
  {
   "cell_type": "markdown",
   "metadata": {},
   "source": [
    "Собираем данные об участниках с более чем 100 действиями активности на 10 мая 2024"
   ]
  },
  {
   "cell_type": "code",
   "execution_count": null,
   "metadata": {},
   "outputs": [],
   "source": [
    "url_contributors = url + f'/contributors?per_page=100'\n",
    "r = requests.get(url_contributors, headers={\"Authorization\": git_token})\n",
    "data_json = json.loads(r.text)\n",
    "is_action_limit = False\n",
    "is_first = True\n",
    "with open('data_contributions.json', 'a', encoding='utf-8') as f:\n",
    "    f.write('[')\n",
    "while 'next' in r.links.keys() and not is_action_limit:\n",
    "    for contributor in data_json:\n",
    "        if contributor['contributions'] < 100: \n",
    "            is_action_limit = True\n",
    "            break\n",
    "        with open('data_contributions.json', 'a', encoding='utf-8') as f:\n",
    "            if not is_first:\n",
    "                f.write(',')\n",
    "            else:\n",
    "                is_first = False\n",
    "            json.dump(contributor, f, ensure_ascii=False, indent=4)\n",
    "    r=requests.get(r.links['next']['url'], headers={\"Authorization\": git_token})\n",
    "    data_json = json.loads(r.text)\n",
    "with open('data_contributions.json', 'a', encoding='utf-8') as f:\n",
    "    f.write(']')"
   ]
  },
  {
   "cell_type": "markdown",
   "metadata": {},
   "source": [
    "Собираем данные о коммитах за 2024 год на 10 мая 2024"
   ]
  },
  {
   "cell_type": "code",
   "execution_count": null,
   "metadata": {},
   "outputs": [],
   "source": [
    "url_commit = url + f'/commits?per_page=100'\n",
    "r = requests.get(url_commit, headers={\"Authorization\": git_token})\n",
    "data_json = json.loads(r.text)\n",
    "is_date_limit = datetime.fromisoformat(\"2023-12-31T23:59:59Z\")\n",
    "is_limit = False\n",
    "is_first = True\n",
    "with open('data_commits.json', 'a', encoding='utf-8') as f:\n",
    "    f.write('[')\n",
    "while 'next' in r.links.keys() and not is_limit:\n",
    "    for commit in data_json:\n",
    "        if datetime.fromisoformat(commit['commit']['committer']['date']) < is_date_limit:\n",
    "            is_limit = True\n",
    "            break\n",
    "        with open('data_commits.json', 'a', encoding='utf-8') as f:\n",
    "            if not is_first:\n",
    "                f.write(',')\n",
    "            else:\n",
    "                is_first = False\n",
    "            json.dump(commit, f, ensure_ascii=False, indent=4)\n",
    "    r=requests.get(r.links['next']['url'], headers={\"Authorization\": git_token})\n",
    "    data_json = json.loads(r.text)\n",
    "with open('data_commits.json', 'a', encoding='utf-8') as f:\n",
    "    f.write(']')"
   ]
  },
  {
   "cell_type": "markdown",
   "metadata": {},
   "source": [
    "Собираем данные о комментариях в коммитах за 2024 год на 10 мая 2024"
   ]
  },
  {
   "cell_type": "code",
   "execution_count": null,
   "metadata": {},
   "outputs": [],
   "source": [
    "url_commit_comment = url + f'/comments?per_page=100'\n",
    "r = requests.get(url_commit_comment, headers={\"Authorization\": git_token})\n",
    "is_date_limit = datetime.fromisoformat(\"2023-12-31T23:59:59Z\")\n",
    "is_limit = False\n",
    "is_first = True\n",
    "with open('data_commits_comments.json', 'a', encoding='utf-8') as f:\n",
    "    f.write('[')\n",
    "r=requests.get(r.links['last']['url'], headers={\"Authorization\": git_token})\n",
    "data_json = json.loads(r.text)\n",
    "while 'prev' in r.links.keys() and not is_limit:\n",
    "    for comment in reversed(data_json):\n",
    "        if datetime.fromisoformat(comment['updated_at']) < is_date_limit:\n",
    "            is_limit = True\n",
    "            break\n",
    "        with open('data_commits_comments.json', 'a', encoding='utf-8') as f:\n",
    "            if not is_first:\n",
    "                f.write(',')\n",
    "            else:\n",
    "                is_first = False\n",
    "            json.dump(comment, f, ensure_ascii=False, indent=4)\n",
    "    r=requests.get(r.links['prev']['url'], headers={\"Authorization\": git_token})\n",
    "    data_json = json.loads(r.text)\n",
    "with open('data_commits_comments.json', 'a', encoding='utf-8') as f:\n",
    "    f.write(']')"
   ]
  },
  {
   "cell_type": "markdown",
   "metadata": {},
   "source": [
    "Собираем данные о комментариях в issues за 2024 год на 10 мая 2024"
   ]
  },
  {
   "cell_type": "code",
   "execution_count": null,
   "metadata": {},
   "outputs": [],
   "source": [
    "url_issues_comments = url + f'/issues/comments?since=\"2023-12-31T23:59:59Z\"&&per_page=100'\n",
    "r = requests.get(url_issues_comments, headers={\"Authorization\": git_token})\n",
    "data_json = json.loads(r.text)\n",
    "is_first = True\n",
    "with open('data_issues_comments.json', 'a', encoding='utf-8') as f:\n",
    "    f.write('[')\n",
    "while 'next' in r.links.keys():\n",
    "    for comment in data_json:\n",
    "        with open('data_issues_comments.json', 'a', encoding='utf-8') as f:\n",
    "            if not is_first:\n",
    "                f.write(',')\n",
    "            else:\n",
    "                is_first = False\n",
    "            json.dump(comment, f, ensure_ascii=False, indent=4)\n",
    "    r=requests.get(r.links['next']['url'], headers={\"Authorization\": git_token})\n",
    "    data_json = json.loads(r.text)\n",
    "with open('data_issues_comments.json', 'a', encoding='utf-8') as f:\n",
    "    f.write(']')"
   ]
  },
  {
   "cell_type": "markdown",
   "metadata": {},
   "source": [
    "Собираем данные об issues за 2024 год на 10 мая 2024"
   ]
  },
  {
   "cell_type": "code",
   "execution_count": null,
   "metadata": {},
   "outputs": [],
   "source": [
    "url_issues = url + f'/issues?per_page=100'\n",
    "r = requests.get(url_issues, headers={\"Authorization\": git_token})\n",
    "data_json = json.loads(r.text)\n",
    "is_date_limit = datetime.fromisoformat(\"2023-12-31T23:59:59Z\")\n",
    "is_limit = False\n",
    "is_first = True\n",
    "with open('data_issues.json', 'a', encoding='utf-8') as f:\n",
    "    f.write('[')\n",
    "while 'next' in r.links.keys() and not is_limit:\n",
    "    for issue in data_json:\n",
    "        if datetime.fromisoformat(issue['created_at']) < is_date_limit:\n",
    "            is_limit = True\n",
    "            break\n",
    "        with open('data_issues.json', 'a', encoding='utf-8') as f:\n",
    "            if not is_first:\n",
    "                f.write(',')\n",
    "            else:\n",
    "                is_first = False\n",
    "            json.dump(issue, f, ensure_ascii=False, indent=4)\n",
    "    r=requests.get(r.links['next']['url'], headers={\"Authorization\": git_token})\n",
    "    data_json = json.loads(r.text)\n",
    "with open('data_issues.json', 'a', encoding='utf-8') as f:\n",
    "    f.write(']')"
   ]
  },
  {
   "cell_type": "markdown",
   "metadata": {},
   "source": [
    "Собираем данные о pull requests за 2024 год на 10 мая 2024"
   ]
  },
  {
   "cell_type": "code",
   "execution_count": null,
   "metadata": {},
   "outputs": [],
   "source": [
    "url_pulls = url + f'/pulls?state=all&per_page=100'\n",
    "r = requests.get(url_pulls, headers={\"Authorization\": git_token})\n",
    "data_json = json.loads(r.text)\n",
    "is_date_limit = datetime.fromisoformat(\"2023-12-31T23:59:59Z\")\n",
    "is_limit = False\n",
    "is_first = True\n",
    "with open('data_pulls.json', 'a', encoding='utf-8') as f:\n",
    "    f.write('[')\n",
    "while 'next' in r.links.keys() and not is_limit:\n",
    "    for pull in data_json:\n",
    "        if datetime.fromisoformat(pull['updated_at']) < is_date_limit:\n",
    "            is_limit = True\n",
    "            break\n",
    "        with open('data_pulls.json', 'a', encoding='utf-8') as f:\n",
    "            if not is_first:\n",
    "                f.write(',')\n",
    "            else:\n",
    "                is_first = False\n",
    "            json.dump(pull, f, ensure_ascii=False, indent=4)\n",
    "    r=requests.get(r.links['next']['url'], headers={\"Authorization\": git_token})\n",
    "    data_json = json.loads(r.text)\n",
    "with open('data_pulls.json', 'a', encoding='utf-8') as f:\n",
    "    f.write(']')"
   ]
  },
  {
   "cell_type": "markdown",
   "metadata": {},
   "source": [
    "Собираем данные о releases за 2024 год на 10 мая 2024"
   ]
  },
  {
   "cell_type": "code",
   "execution_count": null,
   "metadata": {},
   "outputs": [],
   "source": [
    "url_releases = url + f'/releases?per_page=100'\n",
    "r = requests.get(url_releases, headers={\"Authorization\": git_token})\n",
    "data_json = json.loads(r.text)\n",
    "is_date_limit = datetime.fromisoformat(\"2023-12-31T23:59:59Z\")\n",
    "is_limit = False\n",
    "is_first = True\n",
    "with open('data_releases.json', 'a', encoding='utf-8') as f:\n",
    "    f.write('[')\n",
    "while 'next' in r.links.keys() and not is_limit:\n",
    "    for release in data_json:\n",
    "        if datetime.fromisoformat(release['published_at']) < is_date_limit:\n",
    "            is_limit = True\n",
    "            break\n",
    "        with open('data_releases.json', 'a', encoding='utf-8') as f:\n",
    "            if not is_first:\n",
    "                f.write(',')\n",
    "            else:\n",
    "                is_first = False\n",
    "            json.dump(release, f, ensure_ascii=False, indent=4)\n",
    "    r=requests.get(r.links['next']['url'], headers={\"Authorization\": git_token})\n",
    "    data_json = json.loads(r.text)\n",
    "with open('data_releases.json', 'a', encoding='utf-8') as f:\n",
    "    f.write(']')"
   ]
  },
  {
   "cell_type": "markdown",
   "metadata": {},
   "source": [
    "issues events за 2024 год на 10 мая 2024"
   ]
  },
  {
   "cell_type": "code",
   "execution_count": null,
   "metadata": {},
   "outputs": [],
   "source": [
    "url_issues_events = url + f'/issues/events?per_page=100'\n",
    "r = requests.get(url_issues_events, headers={\"Authorization\": git_token})\n",
    "data_json = json.loads(r.text)\n",
    "is_date_limit = datetime.fromisoformat(\"2023-12-31T23:59:59Z\")\n",
    "is_limit = False\n",
    "is_first = True\n",
    "with open('data_issues_events.json', 'a', encoding='utf-8') as f:\n",
    "    f.write('[')\n",
    "while 'next' in r.links.keys() and not is_limit:\n",
    "    for event in data_json:\n",
    "        if datetime.fromisoformat(event['created_at']) < is_date_limit:\n",
    "            is_limit = True\n",
    "            break\n",
    "        with open('data_issues_events.json', 'a', encoding='utf-8') as f:\n",
    "            if not is_first:\n",
    "                f.write(',')\n",
    "            else:\n",
    "                is_first = False\n",
    "            json.dump(event, f, ensure_ascii=False, indent=4)\n",
    "    r=requests.get(r.links['next']['url'], headers={\"Authorization\": git_token})\n",
    "    data_json = json.loads(r.text)\n",
    "with open('data_issues_events.json', 'a', encoding='utf-8') as f:\n",
    "    f.write(']')"
   ]
  },
  {
   "cell_type": "markdown",
   "metadata": {},
   "source": [
    "events за 2024 год на 10 мая 2024"
   ]
  },
  {
   "cell_type": "code",
   "execution_count": null,
   "metadata": {},
   "outputs": [],
   "source": [
    "url_events = url + f'/events?per_page=100'\n",
    "r = requests.get(url_events, headers={\"Authorization\": git_token})\n",
    "data_json = json.loads(r.text)\n",
    "is_date_limit = datetime.fromisoformat(\"2023-12-31T23:59:59Z\")\n",
    "is_limit = False\n",
    "is_first = True\n",
    "with open('data_events.json', 'a', encoding='utf-8') as f:\n",
    "    f.write('[')\n",
    "while 'next' in r.links.keys() and not is_limit:\n",
    "    for event in data_json:\n",
    "        if datetime.fromisoformat(event['created_at']) < is_date_limit:\n",
    "            is_limit = True\n",
    "            break\n",
    "        with open('data_events.json', 'a', encoding='utf-8') as f:\n",
    "            if not is_first:\n",
    "                f.write(',')\n",
    "            else:\n",
    "                is_first = False\n",
    "            json.dump(event, f, ensure_ascii=False, indent=4)\n",
    "    r=requests.get(r.links['next']['url'], headers={\"Authorization\": git_token})\n",
    "    data_json = json.loads(r.text)\n",
    "with open('data_events.json', 'a', encoding='utf-8') as f:\n",
    "    f.write(']')"
   ]
  },
  {
   "cell_type": "markdown",
   "metadata": {},
   "source": [
    "Все глобальные данные, которые открыто предоставляет API и связаны с нашей целью анализа - собраны."
   ]
  }
 ],
 "metadata": {
  "kernelspec": {
   "display_name": ".venv",
   "language": "python",
   "name": "python3"
  },
  "language_info": {
   "codemirror_mode": {
    "name": "ipython",
    "version": 3
   },
   "file_extension": ".py",
   "mimetype": "text/x-python",
   "name": "python",
   "nbconvert_exporter": "python",
   "pygments_lexer": "ipython3",
   "version": "3.11.0"
  }
 },
 "nbformat": 4,
 "nbformat_minor": 2
}
